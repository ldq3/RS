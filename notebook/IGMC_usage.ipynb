{
 "cells": [
  {
   "cell_type": "markdown",
   "metadata": {},
   "source": [
    "# Bipartite_Graph\n",
    "## processing csv\n",
    "The following serves as an example for processing the MovieLens dataset."
   ]
  },
  {
   "cell_type": "code",
   "execution_count": 1,
   "metadata": {},
   "outputs": [],
   "source": [
    "import os\n",
    "import pandas as pd\n",
    "import numpy as np\n",
    "\n",
    "import sys\n",
    "sys.path.append(\"..\")\n",
    "from script.IGMC import *\n",
    "\n",
    "data_dir =  os.path.join(\"..\", \"raw_data\")"
   ]
  },
  {
   "cell_type": "code",
   "execution_count": 2,
   "metadata": {},
   "outputs": [],
   "source": [
    "dataset_name = \"ml_100k\"\n",
    "\n",
    "sep='\\t'\n",
    "column_name = ['user', 'item', 'rating', 'timestamp']"
   ]
  },
  {
   "cell_type": "code",
   "execution_count": 3,
   "metadata": {},
   "outputs": [],
   "source": [
    "used_columns = ['user', 'item', 'rating']\n",
    "full_data_file_name = \"u.data\"\n",
    "full_data_file_path = os.path.join(data_dir, dataset_name, full_data_file_name)\n",
    "\n",
    "data = pd.read_csv(\n",
    "    full_data_file_path, sep=sep, header=None,\n",
    "    names=column_name, \n",
    "    usecols=used_columns\n",
    ")\n",
    "\n",
    "G = Bipartite_Graph(data, id_mapped=False, sample_ratio=0.5)"
   ]
  },
  {
   "cell_type": "markdown",
   "metadata": {},
   "source": [
    "extracting train dataset"
   ]
  },
  {
   "cell_type": "code",
   "execution_count": 4,
   "metadata": {},
   "outputs": [],
   "source": [
    "used_columns = ['user', 'item']\n",
    "train_data_file_name = \"u1.base\"\n",
    "train_data_file_path = os.path.join(data_dir, dataset_name, train_data_file_name)\n",
    "\n",
    "train_data = pd.read_csv(\n",
    "    train_data_file_path,sep=sep, header=None,\n",
    "    names=column_name,\n",
    "    usecols=used_columns\n",
    ")\n"
   ]
  },
  {
   "cell_type": "code",
   "execution_count": 5,
   "metadata": {},
   "outputs": [],
   "source": [
    "edges = np.array([\n",
    "    [G.user_id_dict[edge[0]], G.item_id_dict[edge[1]]] for edge in train_data.values\n",
    "])\n",
    "\n",
    "train_data_list = []\n",
    "\n",
    "for edge in edges:\n",
    "    train_data_list.append(G.extract_data(edge))\n",
    "\n",
    "dataset = Graph_Dataset(dataset_name, train_data_file_name, data_list=train_data_list)"
   ]
  },
  {
   "cell_type": "code",
   "execution_count": 6,
   "metadata": {},
   "outputs": [],
   "source": [
    "del train_data_file_name, train_data_file_path, train_data, edges, train_data_list, dataset"
   ]
  },
  {
   "cell_type": "markdown",
   "metadata": {},
   "source": [
    "extrating test dataset"
   ]
  },
  {
   "cell_type": "code",
   "execution_count": 8,
   "metadata": {},
   "outputs": [],
   "source": [
    "used_columns = ['user', 'item']\n",
    "test_data_file_name = \"u1.test\"\n",
    "test_data_file_path = os.path.join(data_dir, dataset_name, test_data_file_name)\n",
    "\n",
    "test_data = pd.read_csv(\n",
    "    test_data_file_path,sep=sep, header=None,\n",
    "    names=column_name,\n",
    "    usecols=used_columns\n",
    ")\n",
    "edges = np.array([\n",
    "    [G.user_id_dict[edge[0]], G.item_id_dict[edge[1]]] for edge in test_data.values\n",
    "])\n",
    "\n",
    "test_data_list = []\n",
    "\n",
    "for edge in edges:\n",
    "    test_data_list.append(G.extract_data(edge))\n",
    "\n",
    "dataset = Graph_Dataset(dataset_name, test_data_file_name, data_list=test_data_list)"
   ]
  },
  {
   "cell_type": "code",
   "execution_count": null,
   "metadata": {},
   "outputs": [],
   "source": [
    "del test_data_file_name, test_data_file_path, test_data, edges, test_data_list, dataset"
   ]
  }
 ],
 "metadata": {
  "kernelspec": {
   "display_name": "FATE",
   "language": "python",
   "name": "python3"
  },
  "language_info": {
   "codemirror_mode": {
    "name": "ipython",
    "version": 3
   },
   "file_extension": ".py",
   "mimetype": "text/x-python",
   "name": "python",
   "nbconvert_exporter": "python",
   "pygments_lexer": "ipython3",
   "version": "3.8.19"
  }
 },
 "nbformat": 4,
 "nbformat_minor": 2
}
